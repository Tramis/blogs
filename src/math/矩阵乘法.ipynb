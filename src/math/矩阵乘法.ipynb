{
 "cells": [
  {
   "cell_type": "code",
   "execution_count": 16,
   "metadata": {},
   "outputs": [
    {
     "data": {
      "text/latex": [
       "$\\displaystyle \\left( \\left[\\begin{matrix}37 & -48 & -42\\\\69 & -63 & -57\\\\60 & 77 & 2\\end{matrix}\\right], \\  \\left[\\begin{matrix}54 & 63 & 13\\\\-79 & 50 & -78\\\\77 & 58 & -80\\end{matrix}\\right]\\right)$"
      ],
      "text/plain": [
       "⎛⎡37  -48  -42⎤  ⎡54   63  13 ⎤⎞\n",
       "⎜⎢            ⎥  ⎢            ⎥⎟\n",
       "⎜⎢69  -63  -57⎥, ⎢-79  50  -78⎥⎟\n",
       "⎜⎢            ⎥  ⎢            ⎥⎟\n",
       "⎝⎣60  77    2 ⎦  ⎣77   58  -80⎦⎠"
      ]
     },
     "execution_count": 16,
     "metadata": {},
     "output_type": "execute_result"
    }
   ],
   "source": [
    "import random\n",
    "import sympy\n",
    "from sympy import matrices\n",
    "\n",
    "sympy.init_printing(use_latex='mathjax')\n",
    "\n",
    "def make_matrix(m, n, w):\n",
    "    res = []\n",
    "    for i in range(m):\n",
    "        l = []\n",
    "        for j in range(n):\n",
    "            l.append(random.randint(-w, w))\n",
    "        res.append(l)\n",
    "    return matrices.Matrix(res)\n",
    "\n",
    "a = make_matrix(3, 3, 100)\n",
    "b = make_matrix(3, 3, 100)\n",
    "\n",
    "a, b"
   ]
  },
  {
   "cell_type": "code",
   "execution_count": 17,
   "metadata": {},
   "outputs": [
    {
     "data": {
      "text/latex": [
       "$\\displaystyle \\left[\\begin{matrix}2556 & -2505 & 7585\\\\4314 & -2109 & 10371\\\\-2689 & 7746 & -5386\\end{matrix}\\right]$"
      ],
      "text/plain": [
       "⎡2556   -2505  7585 ⎤\n",
       "⎢                   ⎥\n",
       "⎢4314   -2109  10371⎥\n",
       "⎢                   ⎥\n",
       "⎣-2689  7746   -5386⎦"
      ]
     },
     "execution_count": 17,
     "metadata": {},
     "output_type": "execute_result"
    }
   ],
   "source": [
    "a * b"
   ]
  },
  {
   "cell_type": "code",
   "execution_count": 2,
   "metadata": {},
   "outputs": [
    {
     "ename": "KeyError",
     "evalue": "'push1'",
     "output_type": "error",
     "traceback": [
      "\u001b[1;31m---------------------------------------------------------------------------\u001b[0m",
      "\u001b[1;31mKeyError\u001b[0m                                  Traceback (most recent call last)",
      "Cell \u001b[1;32mIn[2], line 9\u001b[0m\n\u001b[0;32m      7\u001b[0m \u001b[38;5;28;01mfor\u001b[39;00m op \u001b[38;5;129;01min\u001b[39;00m ops:\n\u001b[0;32m      8\u001b[0m     \u001b[38;5;28;01mif\u001b[39;00m op\u001b[38;5;241m.\u001b[39mstartswith(\u001b[38;5;124m\"\u001b[39m\u001b[38;5;124mpush\u001b[39m\u001b[38;5;124m\"\u001b[39m):\n\u001b[1;32m----> 9\u001b[0m         \u001b[38;5;28;01mif\u001b[39;00m \u001b[43mnow\u001b[49m\u001b[43m[\u001b[49m\u001b[43mop\u001b[49m\u001b[43m]\u001b[49m \u001b[38;5;129;01mis\u001b[39;00m \u001b[38;5;28;01mNone\u001b[39;00m:\n\u001b[0;32m     10\u001b[0m             now[op] \u001b[38;5;241m=\u001b[39m {}\n\u001b[0;32m     11\u001b[0m         prev\u001b[38;5;241m.\u001b[39mpush(now)\n",
      "\u001b[1;31mKeyError\u001b[0m: 'push1'"
     ]
    }
   ],
   "source": [
    "ops = [\"push1\", \"push2\", \"pop\"]\n",
    "\n",
    "prev = []\n",
    "root = {}\n",
    "now = root\n",
    "\n",
    "for op in ops:\n",
    "    if op.startswith(\"push\"):\n",
    "        if op not in now:\n",
    "            now[op] = {}\n",
    "        prev.push(now)\n",
    "        now = now[op]\n",
    "    else:\n",
    "        now = prev.back()\n",
    "        prev.pop()\n",
    "\n",
    "total = 0\n",
    "\n",
    "def cnt(now):\n",
    "    total += 1\n",
    "    \n",
    "    if now is None:\n",
    "        return\n",
    "    for child in now:\n",
    "        cnt(child)\n",
    "\n",
    "cnt(root)\n",
    "print(total)\n"
   ]
  },
  {
   "cell_type": "code",
   "execution_count": null,
   "metadata": {},
   "outputs": [],
   "source": []
  }
 ],
 "metadata": {
  "kernelspec": {
   "display_name": "Python 3",
   "language": "python",
   "name": "python3"
  },
  "language_info": {
   "codemirror_mode": {
    "name": "ipython",
    "version": 3
   },
   "file_extension": ".py",
   "mimetype": "text/x-python",
   "name": "python",
   "nbconvert_exporter": "python",
   "pygments_lexer": "ipython3",
   "version": "3.12.4"
  }
 },
 "nbformat": 4,
 "nbformat_minor": 2
}
