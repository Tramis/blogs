{
 "cells": [
  {
   "cell_type": "code",
   "execution_count": 16,
   "metadata": {},
   "outputs": [
    {
     "data": {
      "text/latex": [
       "$\\displaystyle \\left( \\left[\\begin{matrix}37 & -48 & -42\\\\69 & -63 & -57\\\\60 & 77 & 2\\end{matrix}\\right], \\  \\left[\\begin{matrix}54 & 63 & 13\\\\-79 & 50 & -78\\\\77 & 58 & -80\\end{matrix}\\right]\\right)$"
      ],
      "text/plain": [
       "⎛⎡37  -48  -42⎤  ⎡54   63  13 ⎤⎞\n",
       "⎜⎢            ⎥  ⎢            ⎥⎟\n",
       "⎜⎢69  -63  -57⎥, ⎢-79  50  -78⎥⎟\n",
       "⎜⎢            ⎥  ⎢            ⎥⎟\n",
       "⎝⎣60  77    2 ⎦  ⎣77   58  -80⎦⎠"
      ]
     },
     "execution_count": 16,
     "metadata": {},
     "output_type": "execute_result"
    }
   ],
   "source": [
    "import random\n",
    "import sympy\n",
    "from sympy import matrices\n",
    "\n",
    "sympy.init_printing(use_latex='mathjax')\n",
    "\n",
    "def make_matrix(m, n, w):\n",
    "    res = []\n",
    "    for i in range(m):\n",
    "        l = []\n",
    "        for j in range(n):\n",
    "            l.append(random.randint(-w, w))\n",
    "        res.append(l)\n",
    "    return matrices.Matrix(res)\n",
    "\n",
    "a = make_matrix(3, 3, 100)\n",
    "b = make_matrix(3, 3, 100)\n",
    "\n",
    "a, b"
   ]
  },
  {
   "cell_type": "code",
   "execution_count": 17,
   "metadata": {},
   "outputs": [
    {
     "data": {
      "text/latex": [
       "$\\displaystyle \\left[\\begin{matrix}2556 & -2505 & 7585\\\\4314 & -2109 & 10371\\\\-2689 & 7746 & -5386\\end{matrix}\\right]$"
      ],
      "text/plain": [
       "⎡2556   -2505  7585 ⎤\n",
       "⎢                   ⎥\n",
       "⎢4314   -2109  10371⎥\n",
       "⎢                   ⎥\n",
       "⎣-2689  7746   -5386⎦"
      ]
     },
     "execution_count": 17,
     "metadata": {},
     "output_type": "execute_result"
    }
   ],
   "source": [
    "a * b"
   ]
  }
 ],
 "metadata": {
  "kernelspec": {
   "display_name": "Python 3",
   "language": "python",
   "name": "python3"
  },
  "language_info": {
   "codemirror_mode": {
    "name": "ipython",
    "version": 3
   },
   "file_extension": ".py",
   "mimetype": "text/x-python",
   "name": "python",
   "nbconvert_exporter": "python",
   "pygments_lexer": "ipython3",
   "version": "3.12.4"
  }
 },
 "nbformat": 4,
 "nbformat_minor": 2
}
